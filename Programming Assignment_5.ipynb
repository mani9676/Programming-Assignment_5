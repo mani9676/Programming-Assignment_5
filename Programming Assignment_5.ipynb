{
 "cells": [
  {
   "cell_type": "code",
   "execution_count": 7,
   "id": "05e52582",
   "metadata": {},
   "outputs": [
    {
     "name": "stdout",
     "output_type": "stream",
     "text": [
      "enter the number - 6\n",
      "enter the number - 4\n",
      "12\n"
     ]
    }
   ],
   "source": [
    "x = int(input(\"enter the number - \"))\n",
    "y = int(input(\"enter the number - \"))\n",
    "if x > y:\n",
    "    g = x\n",
    "else:\n",
    "    g = y\n",
    "while(True):\n",
    "    if((g % x == 0) and (g % y ==0)):\n",
    "        lcm = g\n",
    "        break\n",
    "    g = g + 1\n",
    "print(lcm)"
   ]
  },
  {
   "cell_type": "code",
   "execution_count": 10,
   "id": "4a853c09",
   "metadata": {},
   "outputs": [
    {
     "name": "stdout",
     "output_type": "stream",
     "text": [
      "enter the number -54\n",
      "enter the number - 24\n",
      "6\n"
     ]
    }
   ],
   "source": [
    "x = int(input(\"enter the number -\"))\n",
    "y = int(input(\"enter the number - \"))\n",
    "if x > y:\n",
    "    small = y\n",
    "else:\n",
    "    small = x\n",
    "for i in range(1 , small + 1):\n",
    "    if ((x % i == 0) and (y % i == 0)):\n",
    "        hcf = i\n",
    "    \n",
    "print(hcf)"
   ]
  },
  {
   "cell_type": "code",
   "execution_count": 14,
   "id": "93a20d72",
   "metadata": {},
   "outputs": [
    {
     "name": "stdout",
     "output_type": "stream",
     "text": [
      "enter the decimsl - 1064\n",
      "the decimal value of  1064\n",
      "0b10000101000 is the binary number\n",
      "0o2050  is the octal number\n",
      "0x428 is the hexadecimal\n"
     ]
    }
   ],
   "source": [
    "a = int(input(\"enter the decimsl - \"))\n",
    "print(\"the decimal value of \" ,a )\n",
    "print(bin(a) , \"is the binary number\")\n",
    "print( oct(a) , \" is the octal number\")\n",
    "print( hex(a) , \"is the hexadecimal\")\n"
   ]
  },
  {
   "cell_type": "code",
   "execution_count": 18,
   "id": "f984a191",
   "metadata": {},
   "outputs": [
    {
     "data": {
      "text/plain": [
       "65"
      ]
     },
     "execution_count": 18,
     "metadata": {},
     "output_type": "execute_result"
    }
   ],
   "source": [
    "ord(\"A\")"
   ]
  },
  {
   "cell_type": "code",
   "execution_count": 19,
   "id": "496024e4",
   "metadata": {},
   "outputs": [
    {
     "name": "stdout",
     "output_type": "stream",
     "text": [
      "enter the character - A\n",
      "65  the ASCII value of a character\n"
     ]
    }
   ],
   "source": [
    "a = input(\"enter the character - \")\n",
    "p = ord(a)\n",
    "print(p , \" the ASCII value of a character\")"
   ]
  },
  {
   "cell_type": "code",
   "execution_count": null,
   "id": "7ed04ab5",
   "metadata": {},
   "outputs": [],
   "source": []
  },
  {
   "cell_type": "code",
   "execution_count": null,
   "id": "1d41635f",
   "metadata": {},
   "outputs": [
    {
     "name": "stdout",
     "output_type": "stream",
     "text": [
      "enter the number - 10\n"
     ]
    }
   ],
   "source": [
    "a = int(input(\"enter the number - \"))\n",
    "b = int(input(\"enter the number - \"))\n",
    "temp = int(input(\"enter the operation code\"))\n",
    "\"\"\" 1 is the code for addidition\n",
    "    2 is the code for subtraction\n",
    "    3 is the code for multiplication\n",
    "    4 is the code for division \"\"\"\n",
    "if temp == 1:\n",
    "    c = a + b\n",
    "    print(c, \" the sum of \" , a , \"and\" ,b)\n",
    "elif temp == 2:\n",
    "    c = a - b\n",
    "    print(c, \"the subtraction of \", a , \"and\" , b)\n",
    "elif temp == 3:\n",
    "    c = a * b\n",
    "    print(c, \"the multiplication of \", a, \"and\" , b)\n",
    "else:\n",
    "    c = a / b\n",
    "    print(c,\" the division of \",a,\"and\", b)\n"
   ]
  },
  {
   "cell_type": "code",
   "execution_count": null,
   "id": "e8d6d74f",
   "metadata": {},
   "outputs": [],
   "source": []
  }
 ],
 "metadata": {
  "kernelspec": {
   "display_name": "Python 3 (ipykernel)",
   "language": "python",
   "name": "python3"
  },
  "language_info": {
   "codemirror_mode": {
    "name": "ipython",
    "version": 3
   },
   "file_extension": ".py",
   "mimetype": "text/x-python",
   "name": "python",
   "nbconvert_exporter": "python",
   "pygments_lexer": "ipython3",
   "version": "3.9.7"
  }
 },
 "nbformat": 4,
 "nbformat_minor": 5
}
